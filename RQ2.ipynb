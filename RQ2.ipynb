{
 "cells": [
  {
   "attachments": {},
   "cell_type": "markdown",
   "metadata": {},
   "source": [
    "# Import Util File"
   ]
  },
  {
   "cell_type": "code",
   "execution_count": 6,
   "metadata": {},
   "outputs": [],
   "source": [
    "import openai\n",
    "\n",
    "from utils import (\n",
    "    apply_heuristics,\n",
    "    apply_heuristic_in_file,\n",
    "    heuristic_adjust_spaces,\n",
    "    get_bleu_and_codebleu,\n",
    "    get_env_variable,\n",
    "    get_predictions_from_openai_and_write_to_file,\n",
    "    read_raw_tufano_dataset_from_csv,\n",
    "    write_list_to_file,\n",
    "    read_dataset,\n",
    "    get_EM_R4R,\n",
    "    format_file,\n",
    "    transfer_content_to_another_file,\n",
    "    get_predictions_from_edit_api_and_write_to_file\n",
    ")"
   ]
  },
  {
   "attachments": {},
   "cell_type": "markdown",
   "metadata": {},
   "source": [
    "# Load Datasets"
   ]
  },
  {
   "cell_type": "code",
   "execution_count": 3,
   "metadata": {},
   "outputs": [],
   "source": [
    "OUTPUT_DIRECTORY = \"outputs\"\n",
    "TUFANO_SOURCE_FILE_PATH = \"datasets/tufano/test_CC_src.txt\"\n",
    "TUFANO_TARGET_FILE_PATH = \"datasets/tufano/test_CC_tgt.txt\"\n",
    "TUFANO_RAW_DATASET_FILE_PATH = \"datasets/tufano/raw_test.csv\"\n",
    "R4R_SOURCE_FILE_PATH = \"datasets/R4R/test_CC_src.txt\"\n",
    "R4R_TARGET_FILE_PATH = \"datasets/R4R/test_CC_tgt.txt\""
   ]
  },
  {
   "attachments": {},
   "cell_type": "markdown",
   "metadata": {},
   "source": [
    "## R4R Data load"
   ]
  },
  {
   "cell_type": "code",
   "execution_count": null,
   "metadata": {},
   "outputs": [],
   "source": [
    "code_reviews, buggy_codes, target_codes = read_dataset(\n",
    "    dataset_name=\"R4R\", source_file_path=R4R_SOURCE_FILE_PATH, target_file_path=R4R_TARGET_FILE_PATH\n",
    ")"
   ]
  },
  {
   "attachments": {},
   "cell_type": "markdown",
   "metadata": {},
   "source": [
    "## Tufano data load"
   ]
  },
  {
   "cell_type": "code",
   "execution_count": 7,
   "metadata": {},
   "outputs": [],
   "source": [
    "code_reviews, buggy_codes, target_codes = read_raw_tufano_dataset_from_csv(TUFANO_RAW_DATASET_FILE_PATH)"
   ]
  },
  {
   "attachments": {},
   "cell_type": "markdown",
   "metadata": {},
   "source": [
    "# Inference"
   ]
  },
  {
   "cell_type": "markdown",
   "metadata": {},
   "source": [
    "## Set OpenAI API Key"
   ]
  },
  {
   "cell_type": "code",
   "execution_count": null,
   "metadata": {},
   "outputs": [],
   "source": [
    "openai.api_key = \"<YOUR_OPEN_API_KEY>\""
   ]
  },
  {
   "attachments": {},
   "cell_type": "markdown",
   "metadata": {},
   "source": [
    "## Zero Shot Inference"
   ]
  },
  {
   "attachments": {},
   "cell_type": "markdown",
   "metadata": {},
   "source": [
    "### R4R Inference"
   ]
  },
  {
   "cell_type": "code",
   "execution_count": null,
   "metadata": {},
   "outputs": [],
   "source": [
    "get_predictions_from_openai_and_write_to_file(\n",
    "    f\"{OUTPUT_DIRECTORY}/r4r_predictions_raw_no_heuristic.txt\",\n",
    "    f\"{OUTPUT_DIRECTORY}/r4r_ground_truths_raw_no_heuristic.txt\",\n",
    "    code_reviews,\n",
    "    buggy_codes,\n",
    "    target_codes\n",
    ")"
   ]
  },
  {
   "attachments": {},
   "cell_type": "markdown",
   "metadata": {},
   "source": [
    "### Tufano Inference"
   ]
  },
  {
   "cell_type": "code",
   "execution_count": null,
   "metadata": {},
   "outputs": [],
   "source": [
    "get_predictions_from_openai_and_write_to_file(\n",
    "    f\"{OUTPUT_DIRECTORY}/tufano_predictions_raw_no_heuristic.txt\",\n",
    "    f\"{OUTPUT_DIRECTORY}/tufano_ground_truths_raw_no_heuristic.txt\",\n",
    "    code_reviews,\n",
    "    buggy_codes,\n",
    "    target_codes\n",
    ")"
   ]
  },
  {
   "attachments": {},
   "cell_type": "markdown",
   "metadata": {},
   "source": [
    "## Few-shot Inference"
   ]
  },
  {
   "cell_type": "markdown",
   "metadata": {},
   "source": [
    "### R4R Inference"
   ]
  },
  {
   "cell_type": "code",
   "execution_count": null,
   "metadata": {},
   "outputs": [],
   "source": [
    "get_predictions_from_openai_and_write_to_file(\n",
    "    f\"{OUTPUT_DIRECTORY}/r4r_predictions_raw_no_heuristic.txt\",\n",
    "    f\"{OUTPUT_DIRECTORY}/r4r_ground_truths_raw_no_heuristic.txt\",\n",
    "    code_reviews,\n",
    "    buggy_codes,\n",
    "    target_codes\n",
    ")"
   ]
  },
  {
   "cell_type": "markdown",
   "metadata": {},
   "source": [
    "### Tufano Inference"
   ]
  },
  {
   "cell_type": "code",
   "execution_count": null,
   "metadata": {},
   "outputs": [],
   "source": [
    "get_predictions_from_openai_and_write_to_file(\n",
    "    f\"{OUTPUT_DIRECTORY}/tufano_predictions_raw_no_heuristic.txt\",\n",
    "    f\"{OUTPUT_DIRECTORY}/tufano_ground_truths_raw_no_heuristic.txt\",\n",
    "    code_reviews,\n",
    "    buggy_codes,\n",
    "    target_codes\n",
    ")"
   ]
  }
 ],
 "metadata": {
  "kernelspec": {
   "display_name": "py_env",
   "language": "python",
   "name": "python3"
  },
  "language_info": {
   "codemirror_mode": {
    "name": "ipython",
    "version": 3
   },
   "file_extension": ".py",
   "mimetype": "text/x-python",
   "name": "python",
   "nbconvert_exporter": "python",
   "pygments_lexer": "ipython3",
   "version": "3.9.1"
  },
  "orig_nbformat": 4
 },
 "nbformat": 4,
 "nbformat_minor": 2
}
